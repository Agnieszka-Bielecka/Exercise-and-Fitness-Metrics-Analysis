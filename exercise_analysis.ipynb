{
 "cells": [
  {
   "cell_type": "markdown",
   "id": "01006b34",
   "metadata": {},
   "source": [
    "Author: Agnieszka Bielecka"
   ]
  },
  {
   "cell_type": "markdown",
   "id": "c939a722",
   "metadata": {},
   "source": [
    "Date: 12.06.2023"
   ]
  },
  {
   "cell_type": "markdown",
   "id": "28677a35",
   "metadata": {},
   "source": [
    "# Exploratory Exercise and Fitness Data Analysis"
   ]
  },
  {
   "cell_type": "markdown",
   "id": "c43f80a2",
   "metadata": {},
   "source": [
    "## Introduction"
   ]
  },
  {
   "cell_type": "markdown",
   "id": "77d92412",
   "metadata": {},
   "source": [
    "\"Exercise and Fitness Metrics Dataset\" is a comprehensive dataset that captures various factors related to exercise, fitness, and weight management.\n",
    "\n",
    "The dataset contains information about different types of performed exercises (duration, calories burned during those exercises, weather, and intensity of exercise), and details about the exerciser (dream weight, actual weight, age, gender, heart rate, and BMI).\n",
    "\n",
    "These data bring more knowledge about what affects the performance of exercises."
   ]
  },
  {
   "cell_type": "markdown",
   "id": "237e4e47",
   "metadata": {},
   "source": [
    "#### Analysis Questions"
   ]
  },
  {
   "cell_type": "markdown",
   "id": "dbddd7f1-278b-4863-8f13-711a8fcf0d6b",
   "metadata": {},
   "source": [
    "Before we ask questions, we should define how to understand the excellent performance of the exercise. According to our data, we are able to understand it by two main factors - calories burned and heart rate.\n",
    "\n",
    "An efficient workout should burn many calories and keep our heart rate at an adequate level (depending on our resting heart rate or age)."
   ]
  },
  {
   "cell_type": "markdown",
   "id": "8be8c1f0",
   "metadata": {},
   "source": [
    "1. What level of heart rate is the most recommended for people of a particular age?\n",
    "2. Which exercises are the most efficient (burn the most calories)?\n",
    "3. What is given people's height?\n",
    "4. Is there any correlation between given variables?\n",
    "5. What is the distribution of actual weight in the given dataset?\n",
    "6. How given people are categorized in relation to their BMI?"
   ]
  },
  {
   "cell_type": "markdown",
   "id": "d72aca42",
   "metadata": {},
   "source": [
    "#### Sources"
   ]
  },
  {
   "cell_type": "markdown",
   "id": "4edd8be5",
   "metadata": {},
   "source": [
    "\n",
    "* [Dataset from Kaggle](https://www.kaggle.com/datasets/aakashjoshi123/exercise-and-fitness-metrics-dataset)\n",
    "\n",
    "* [Information about Heart Rate](https://www.cdc.gov/physicalactivity/basics/measuring/heartrate.htm)\n",
    "\n",
    "* [Information about BMI](https://www.cdc.gov/healthyweight/assessing/bmi/adult_bmi/index.html)"
   ]
  },
  {
   "cell_type": "markdown",
   "id": "94c8e913",
   "metadata": {},
   "source": [
    "<hr>"
   ]
  },
  {
   "cell_type": "markdown",
   "id": "210ec0ad",
   "metadata": {},
   "source": [
    "## Preparing the Environment"
   ]
  },
  {
   "cell_type": "markdown",
   "id": "c2d72da6",
   "metadata": {},
   "source": [
    "The project required importing libraries and the dataset."
   ]
  },
  {
   "cell_type": "code",
   "execution_count": 1,
   "id": "b9c8f8d8",
   "metadata": {},
   "outputs": [],
   "source": [
    "# Import libraries and add an alias\n",
    "import pandas as pd\n",
    "import matplotlib.pyplot as plt\n",
    "import numpy as np\n",
    "from scipy.stats import shapiro"
   ]
  },
  {
   "cell_type": "code",
   "execution_count": 2,
   "id": "6fefcc52",
   "metadata": {},
   "outputs": [],
   "source": [
    "# Read data in CSV file\n",
    "dataset = pd.read_csv(r\"C:\\Users\\abiel\\Downloads\\Exercise-and-Fitness-Metrics-Dataset\\exercise_dataset.csv\")"
   ]
  },
  {
   "cell_type": "markdown",
   "id": "5ab81465",
   "metadata": {},
   "source": [
    "<hr>"
   ]
  },
  {
   "cell_type": "markdown",
   "id": "2452c665",
   "metadata": {},
   "source": [
    "## Data Exploration"
   ]
  },
  {
   "cell_type": "markdown",
   "id": "3cfb095f",
   "metadata": {},
   "source": [
    "#### Quick dataset overview"
   ]
  },
  {
   "cell_type": "code",
   "execution_count": 3,
   "id": "21691d7b",
   "metadata": {},
   "outputs": [
    {
     "data": {
      "text/html": [
       "<div>\n",
       "<style scoped>\n",
       "    .dataframe tbody tr th:only-of-type {\n",
       "        vertical-align: middle;\n",
       "    }\n",
       "\n",
       "    .dataframe tbody tr th {\n",
       "        vertical-align: top;\n",
       "    }\n",
       "\n",
       "    .dataframe thead th {\n",
       "        text-align: right;\n",
       "    }\n",
       "</style>\n",
       "<table border=\"1\" class=\"dataframe\">\n",
       "  <thead>\n",
       "    <tr style=\"text-align: right;\">\n",
       "      <th></th>\n",
       "      <th>ID</th>\n",
       "      <th>Exercise</th>\n",
       "      <th>Calories Burn</th>\n",
       "      <th>Dream Weight</th>\n",
       "      <th>Actual Weight</th>\n",
       "      <th>Age</th>\n",
       "      <th>Gender</th>\n",
       "      <th>Duration</th>\n",
       "      <th>Heart Rate</th>\n",
       "      <th>BMI</th>\n",
       "      <th>Weather Conditions</th>\n",
       "      <th>Exercise Intensity</th>\n",
       "    </tr>\n",
       "  </thead>\n",
       "  <tbody>\n",
       "    <tr>\n",
       "      <th>0</th>\n",
       "      <td>1</td>\n",
       "      <td>Exercise 2</td>\n",
       "      <td>286.959851</td>\n",
       "      <td>91.892531</td>\n",
       "      <td>96.301115</td>\n",
       "      <td>45</td>\n",
       "      <td>Male</td>\n",
       "      <td>37</td>\n",
       "      <td>170</td>\n",
       "      <td>29.426275</td>\n",
       "      <td>Rainy</td>\n",
       "      <td>5</td>\n",
       "    </tr>\n",
       "    <tr>\n",
       "      <th>1</th>\n",
       "      <td>2</td>\n",
       "      <td>Exercise 7</td>\n",
       "      <td>343.453036</td>\n",
       "      <td>64.165097</td>\n",
       "      <td>61.104668</td>\n",
       "      <td>25</td>\n",
       "      <td>Male</td>\n",
       "      <td>43</td>\n",
       "      <td>142</td>\n",
       "      <td>21.286346</td>\n",
       "      <td>Rainy</td>\n",
       "      <td>5</td>\n",
       "    </tr>\n",
       "    <tr>\n",
       "      <th>2</th>\n",
       "      <td>3</td>\n",
       "      <td>Exercise 4</td>\n",
       "      <td>261.223465</td>\n",
       "      <td>70.846224</td>\n",
       "      <td>71.766724</td>\n",
       "      <td>20</td>\n",
       "      <td>Male</td>\n",
       "      <td>20</td>\n",
       "      <td>148</td>\n",
       "      <td>27.899592</td>\n",
       "      <td>Cloudy</td>\n",
       "      <td>4</td>\n",
       "    </tr>\n",
       "    <tr>\n",
       "      <th>3</th>\n",
       "      <td>4</td>\n",
       "      <td>Exercise 5</td>\n",
       "      <td>127.183858</td>\n",
       "      <td>79.477008</td>\n",
       "      <td>82.984456</td>\n",
       "      <td>33</td>\n",
       "      <td>Male</td>\n",
       "      <td>39</td>\n",
       "      <td>170</td>\n",
       "      <td>33.729552</td>\n",
       "      <td>Sunny</td>\n",
       "      <td>10</td>\n",
       "    </tr>\n",
       "    <tr>\n",
       "      <th>4</th>\n",
       "      <td>5</td>\n",
       "      <td>Exercise 10</td>\n",
       "      <td>416.318374</td>\n",
       "      <td>89.960226</td>\n",
       "      <td>85.643174</td>\n",
       "      <td>29</td>\n",
       "      <td>Female</td>\n",
       "      <td>34</td>\n",
       "      <td>118</td>\n",
       "      <td>23.286113</td>\n",
       "      <td>Cloudy</td>\n",
       "      <td>3</td>\n",
       "    </tr>\n",
       "  </tbody>\n",
       "</table>\n",
       "</div>"
      ],
      "text/plain": [
       "   ID     Exercise  Calories Burn  Dream Weight  Actual Weight  Age  Gender   \n",
       "0   1   Exercise 2     286.959851     91.892531      96.301115   45    Male  \\\n",
       "1   2   Exercise 7     343.453036     64.165097      61.104668   25    Male   \n",
       "2   3   Exercise 4     261.223465     70.846224      71.766724   20    Male   \n",
       "3   4   Exercise 5     127.183858     79.477008      82.984456   33    Male   \n",
       "4   5  Exercise 10     416.318374     89.960226      85.643174   29  Female   \n",
       "\n",
       "   Duration  Heart Rate        BMI Weather Conditions  Exercise Intensity  \n",
       "0        37         170  29.426275              Rainy                   5  \n",
       "1        43         142  21.286346              Rainy                   5  \n",
       "2        20         148  27.899592             Cloudy                   4  \n",
       "3        39         170  33.729552              Sunny                  10  \n",
       "4        34         118  23.286113             Cloudy                   3  "
      ]
     },
     "execution_count": 3,
     "metadata": {},
     "output_type": "execute_result"
    }
   ],
   "source": [
    "# Preview first 5 rows of dataset\n",
    "dataset.head()"
   ]
  },
  {
   "cell_type": "code",
   "execution_count": 4,
   "id": "e45f71fb",
   "metadata": {},
   "outputs": [
    {
     "data": {
      "text/html": [
       "<div>\n",
       "<style scoped>\n",
       "    .dataframe tbody tr th:only-of-type {\n",
       "        vertical-align: middle;\n",
       "    }\n",
       "\n",
       "    .dataframe tbody tr th {\n",
       "        vertical-align: top;\n",
       "    }\n",
       "\n",
       "    .dataframe thead th {\n",
       "        text-align: right;\n",
       "    }\n",
       "</style>\n",
       "<table border=\"1\" class=\"dataframe\">\n",
       "  <thead>\n",
       "    <tr style=\"text-align: right;\">\n",
       "      <th></th>\n",
       "      <th>ID</th>\n",
       "      <th>Exercise</th>\n",
       "      <th>Calories Burn</th>\n",
       "      <th>Dream Weight</th>\n",
       "      <th>Actual Weight</th>\n",
       "      <th>Age</th>\n",
       "      <th>Gender</th>\n",
       "      <th>Duration</th>\n",
       "      <th>Heart Rate</th>\n",
       "      <th>BMI</th>\n",
       "      <th>Weather Conditions</th>\n",
       "      <th>Exercise Intensity</th>\n",
       "    </tr>\n",
       "  </thead>\n",
       "  <tbody>\n",
       "    <tr>\n",
       "      <th>3859</th>\n",
       "      <td>3860</td>\n",
       "      <td>Exercise 5</td>\n",
       "      <td>154.113144</td>\n",
       "      <td>98.147291</td>\n",
       "      <td>96.745133</td>\n",
       "      <td>20</td>\n",
       "      <td>Female</td>\n",
       "      <td>22</td>\n",
       "      <td>139</td>\n",
       "      <td>32.447764</td>\n",
       "      <td>Cloudy</td>\n",
       "      <td>7</td>\n",
       "    </tr>\n",
       "    <tr>\n",
       "      <th>3860</th>\n",
       "      <td>3861</td>\n",
       "      <td>Exercise 4</td>\n",
       "      <td>486.392768</td>\n",
       "      <td>97.598957</td>\n",
       "      <td>92.700573</td>\n",
       "      <td>21</td>\n",
       "      <td>Female</td>\n",
       "      <td>49</td>\n",
       "      <td>160</td>\n",
       "      <td>26.602475</td>\n",
       "      <td>Rainy</td>\n",
       "      <td>5</td>\n",
       "    </tr>\n",
       "    <tr>\n",
       "      <th>3861</th>\n",
       "      <td>3862</td>\n",
       "      <td>Exercise 4</td>\n",
       "      <td>264.307731</td>\n",
       "      <td>94.946612</td>\n",
       "      <td>96.778936</td>\n",
       "      <td>57</td>\n",
       "      <td>Male</td>\n",
       "      <td>56</td>\n",
       "      <td>167</td>\n",
       "      <td>31.435348</td>\n",
       "      <td>Rainy</td>\n",
       "      <td>9</td>\n",
       "    </tr>\n",
       "    <tr>\n",
       "      <th>3862</th>\n",
       "      <td>3863</td>\n",
       "      <td>Exercise 9</td>\n",
       "      <td>185.951870</td>\n",
       "      <td>64.743906</td>\n",
       "      <td>68.662889</td>\n",
       "      <td>58</td>\n",
       "      <td>Female</td>\n",
       "      <td>60</td>\n",
       "      <td>128</td>\n",
       "      <td>19.774614</td>\n",
       "      <td>Rainy</td>\n",
       "      <td>1</td>\n",
       "    </tr>\n",
       "    <tr>\n",
       "      <th>3863</th>\n",
       "      <td>3864</td>\n",
       "      <td>Exercise 7</td>\n",
       "      <td>116.360417</td>\n",
       "      <td>56.757424</td>\n",
       "      <td>59.833403</td>\n",
       "      <td>35</td>\n",
       "      <td>Male</td>\n",
       "      <td>22</td>\n",
       "      <td>134</td>\n",
       "      <td>29.581330</td>\n",
       "      <td>Rainy</td>\n",
       "      <td>1</td>\n",
       "    </tr>\n",
       "  </tbody>\n",
       "</table>\n",
       "</div>"
      ],
      "text/plain": [
       "        ID    Exercise  Calories Burn  Dream Weight  Actual Weight  Age   \n",
       "3859  3860  Exercise 5     154.113144     98.147291      96.745133   20  \\\n",
       "3860  3861  Exercise 4     486.392768     97.598957      92.700573   21   \n",
       "3861  3862  Exercise 4     264.307731     94.946612      96.778936   57   \n",
       "3862  3863  Exercise 9     185.951870     64.743906      68.662889   58   \n",
       "3863  3864  Exercise 7     116.360417     56.757424      59.833403   35   \n",
       "\n",
       "      Gender  Duration  Heart Rate        BMI Weather Conditions   \n",
       "3859  Female        22         139  32.447764             Cloudy  \\\n",
       "3860  Female        49         160  26.602475              Rainy   \n",
       "3861    Male        56         167  31.435348              Rainy   \n",
       "3862  Female        60         128  19.774614              Rainy   \n",
       "3863    Male        22         134  29.581330              Rainy   \n",
       "\n",
       "      Exercise Intensity  \n",
       "3859                   7  \n",
       "3860                   5  \n",
       "3861                   9  \n",
       "3862                   1  \n",
       "3863                   1  "
      ]
     },
     "execution_count": 4,
     "metadata": {},
     "output_type": "execute_result"
    }
   ],
   "source": [
    "# Preview last 5 rows of dataset\n",
    "dataset.tail()"
   ]
  },
  {
   "cell_type": "markdown",
   "id": "97d1bab1",
   "metadata": {},
   "source": [
    "As you can see, this dataset contains mainly quantitative data, some of them can be easily group into segments (age, heart rate, exercise intensity).\n",
    "\n",
    "There is also a three columns with categorical data.\n"
   ]
  },
  {
   "cell_type": "markdown",
   "id": "4a3bedf9",
   "metadata": {},
   "source": [
    "Let's have a look info shape(), info() and describe() to get more information."
   ]
  },
  {
   "cell_type": "markdown",
   "id": "cb23cfd0",
   "metadata": {},
   "source": [
    "#### Size of the dataset"
   ]
  },
  {
   "cell_type": "code",
   "execution_count": 5,
   "id": "8aa68c2b",
   "metadata": {},
   "outputs": [
    {
     "data": {
      "text/plain": [
       "(3864, 12)"
      ]
     },
     "execution_count": 5,
     "metadata": {},
     "output_type": "execute_result"
    }
   ],
   "source": [
    "dataset.shape"
   ]
  },
  {
   "cell_type": "markdown",
   "id": "4e9669e0",
   "metadata": {},
   "source": [
    "There is 3864 rows and 12 columns in the dataset."
   ]
  },
  {
   "cell_type": "markdown",
   "id": "e2c19117",
   "metadata": {},
   "source": [
    "#### Summarised information of dataset"
   ]
  },
  {
   "cell_type": "code",
   "execution_count": 6,
   "id": "55a55d0b",
   "metadata": {},
   "outputs": [
    {
     "name": "stdout",
     "output_type": "stream",
     "text": [
      "<class 'pandas.core.frame.DataFrame'>\n",
      "RangeIndex: 3864 entries, 0 to 3863\n",
      "Data columns (total 12 columns):\n",
      " #   Column              Non-Null Count  Dtype  \n",
      "---  ------              --------------  -----  \n",
      " 0   ID                  3864 non-null   int64  \n",
      " 1   Exercise            3864 non-null   object \n",
      " 2   Calories Burn       3864 non-null   float64\n",
      " 3   Dream Weight        3864 non-null   float64\n",
      " 4   Actual Weight       3864 non-null   float64\n",
      " 5   Age                 3864 non-null   int64  \n",
      " 6   Gender              3864 non-null   object \n",
      " 7   Duration            3864 non-null   int64  \n",
      " 8   Heart Rate          3864 non-null   int64  \n",
      " 9   BMI                 3864 non-null   float64\n",
      " 10  Weather Conditions  3864 non-null   object \n",
      " 11  Exercise Intensity  3864 non-null   int64  \n",
      "dtypes: float64(4), int64(5), object(3)\n",
      "memory usage: 362.4+ KB\n"
     ]
    }
   ],
   "source": [
    "dataset.info()"
   ]
  },
  {
   "cell_type": "markdown",
   "id": "af6fa7ef",
   "metadata": {},
   "source": [
    "Data types matches to the corresponding values. \n",
    "\n",
    "There are no rows without any values.\n",
    "\n",
    "The dataset is pretty small, and so is memory usage."
   ]
  },
  {
   "cell_type": "markdown",
   "id": "96171c60",
   "metadata": {},
   "source": [
    "<hr>"
   ]
  },
  {
   "cell_type": "markdown",
   "id": "548dd94f",
   "metadata": {},
   "source": [
    "## Data Cleaning"
   ]
  },
  {
   "cell_type": "markdown",
   "id": "6f3d8ee8",
   "metadata": {},
   "source": [
    "Before we start analysing data we need to check their current quality and clean them."
   ]
  },
  {
   "cell_type": "markdown",
   "id": "ac9a652a",
   "metadata": {},
   "source": [
    "Let's check again if there are no null values and look for duplicates."
   ]
  },
  {
   "cell_type": "markdown",
   "id": "e4c26895",
   "metadata": {},
   "source": [
    "<b>Missing values & Duplicated data<b/>"
   ]
  },
  {
   "cell_type": "code",
   "execution_count": 7,
   "id": "e66407df",
   "metadata": {},
   "outputs": [
    {
     "data": {
      "text/plain": [
       "ID                    0\n",
       "Exercise              0\n",
       "Calories Burn         0\n",
       "Dream Weight          0\n",
       "Actual Weight         0\n",
       "Age                   0\n",
       "Gender                0\n",
       "Duration              0\n",
       "Heart Rate            0\n",
       "BMI                   0\n",
       "Weather Conditions    0\n",
       "Exercise Intensity    0\n",
       "dtype: int64"
      ]
     },
     "execution_count": 7,
     "metadata": {},
     "output_type": "execute_result"
    }
   ],
   "source": [
    "# Find number of null values for all columns\n",
    "dataset.isnull().sum()"
   ]
  },
  {
   "cell_type": "code",
   "execution_count": 8,
   "id": "c22e94f1",
   "metadata": {},
   "outputs": [
    {
     "data": {
      "text/plain": [
       "0"
      ]
     },
     "execution_count": 8,
     "metadata": {},
     "output_type": "execute_result"
    }
   ],
   "source": [
    "# Find number of duplicate values\n",
    "dataset.duplicated().sum()"
   ]
  },
  {
   "cell_type": "markdown",
   "id": "6268895e",
   "metadata": {},
   "source": [
    "According to the results, dataset has zero null values and duplicates."
   ]
  },
  {
   "cell_type": "markdown",
   "id": "1bbc8734",
   "metadata": {},
   "source": [
    "<hr>"
   ]
  },
  {
   "cell_type": "markdown",
   "id": "56b2d688",
   "metadata": {},
   "source": [
    "## Descriptive Statistics"
   ]
  },
  {
   "cell_type": "markdown",
   "id": "309c297f",
   "metadata": {},
   "source": [
    "#### Dataset describtion"
   ]
  },
  {
   "cell_type": "code",
   "execution_count": 9,
   "id": "6f0c494f",
   "metadata": {},
   "outputs": [
    {
     "data": {
      "text/html": [
       "<div>\n",
       "<style scoped>\n",
       "    .dataframe tbody tr th:only-of-type {\n",
       "        vertical-align: middle;\n",
       "    }\n",
       "\n",
       "    .dataframe tbody tr th {\n",
       "        vertical-align: top;\n",
       "    }\n",
       "\n",
       "    .dataframe thead th {\n",
       "        text-align: right;\n",
       "    }\n",
       "</style>\n",
       "<table border=\"1\" class=\"dataframe\">\n",
       "  <thead>\n",
       "    <tr style=\"text-align: right;\">\n",
       "      <th></th>\n",
       "      <th>ID</th>\n",
       "      <th>Calories Burn</th>\n",
       "      <th>Dream Weight</th>\n",
       "      <th>Actual Weight</th>\n",
       "      <th>Age</th>\n",
       "      <th>Duration</th>\n",
       "      <th>Heart Rate</th>\n",
       "      <th>BMI</th>\n",
       "      <th>Exercise Intensity</th>\n",
       "    </tr>\n",
       "  </thead>\n",
       "  <tbody>\n",
       "    <tr>\n",
       "      <th>count</th>\n",
       "      <td>3864.000000</td>\n",
       "      <td>3864.000000</td>\n",
       "      <td>3864.000000</td>\n",
       "      <td>3864.000000</td>\n",
       "      <td>3864.000000</td>\n",
       "      <td>3864.000000</td>\n",
       "      <td>3864.000000</td>\n",
       "      <td>3864.000000</td>\n",
       "      <td>3864.000000</td>\n",
       "    </tr>\n",
       "    <tr>\n",
       "      <th>mean</th>\n",
       "      <td>1932.500000</td>\n",
       "      <td>301.861806</td>\n",
       "      <td>75.139263</td>\n",
       "      <td>75.188440</td>\n",
       "      <td>39.621118</td>\n",
       "      <td>40.190994</td>\n",
       "      <td>139.777950</td>\n",
       "      <td>26.801977</td>\n",
       "      <td>5.457298</td>\n",
       "    </tr>\n",
       "    <tr>\n",
       "      <th>std</th>\n",
       "      <td>1115.585048</td>\n",
       "      <td>115.828604</td>\n",
       "      <td>14.545824</td>\n",
       "      <td>14.845511</td>\n",
       "      <td>12.521721</td>\n",
       "      <td>11.765957</td>\n",
       "      <td>23.447528</td>\n",
       "      <td>4.746745</td>\n",
       "      <td>2.850896</td>\n",
       "    </tr>\n",
       "    <tr>\n",
       "      <th>min</th>\n",
       "      <td>1.000000</td>\n",
       "      <td>100.009403</td>\n",
       "      <td>50.001984</td>\n",
       "      <td>45.783747</td>\n",
       "      <td>18.000000</td>\n",
       "      <td>20.000000</td>\n",
       "      <td>100.000000</td>\n",
       "      <td>18.500014</td>\n",
       "      <td>1.000000</td>\n",
       "    </tr>\n",
       "    <tr>\n",
       "      <th>25%</th>\n",
       "      <td>966.750000</td>\n",
       "      <td>202.168837</td>\n",
       "      <td>62.373585</td>\n",
       "      <td>62.476906</td>\n",
       "      <td>29.000000</td>\n",
       "      <td>30.000000</td>\n",
       "      <td>119.000000</td>\n",
       "      <td>22.686774</td>\n",
       "      <td>3.000000</td>\n",
       "    </tr>\n",
       "    <tr>\n",
       "      <th>50%</th>\n",
       "      <td>1932.500000</td>\n",
       "      <td>299.742508</td>\n",
       "      <td>75.522136</td>\n",
       "      <td>75.544407</td>\n",
       "      <td>40.000000</td>\n",
       "      <td>40.000000</td>\n",
       "      <td>140.000000</td>\n",
       "      <td>26.861656</td>\n",
       "      <td>5.000000</td>\n",
       "    </tr>\n",
       "    <tr>\n",
       "      <th>75%</th>\n",
       "      <td>2898.250000</td>\n",
       "      <td>404.143688</td>\n",
       "      <td>87.707989</td>\n",
       "      <td>88.105767</td>\n",
       "      <td>51.000000</td>\n",
       "      <td>51.000000</td>\n",
       "      <td>160.000000</td>\n",
       "      <td>30.950380</td>\n",
       "      <td>8.000000</td>\n",
       "    </tr>\n",
       "    <tr>\n",
       "      <th>max</th>\n",
       "      <td>3864.000000</td>\n",
       "      <td>499.859262</td>\n",
       "      <td>99.985355</td>\n",
       "      <td>104.309600</td>\n",
       "      <td>60.000000</td>\n",
       "      <td>60.000000</td>\n",
       "      <td>180.000000</td>\n",
       "      <td>34.996639</td>\n",
       "      <td>10.000000</td>\n",
       "    </tr>\n",
       "  </tbody>\n",
       "</table>\n",
       "</div>"
      ],
      "text/plain": [
       "                ID  Calories Burn  Dream Weight  Actual Weight          Age   \n",
       "count  3864.000000    3864.000000   3864.000000    3864.000000  3864.000000  \\\n",
       "mean   1932.500000     301.861806     75.139263      75.188440    39.621118   \n",
       "std    1115.585048     115.828604     14.545824      14.845511    12.521721   \n",
       "min       1.000000     100.009403     50.001984      45.783747    18.000000   \n",
       "25%     966.750000     202.168837     62.373585      62.476906    29.000000   \n",
       "50%    1932.500000     299.742508     75.522136      75.544407    40.000000   \n",
       "75%    2898.250000     404.143688     87.707989      88.105767    51.000000   \n",
       "max    3864.000000     499.859262     99.985355     104.309600    60.000000   \n",
       "\n",
       "          Duration   Heart Rate          BMI  Exercise Intensity  \n",
       "count  3864.000000  3864.000000  3864.000000         3864.000000  \n",
       "mean     40.190994   139.777950    26.801977            5.457298  \n",
       "std      11.765957    23.447528     4.746745            2.850896  \n",
       "min      20.000000   100.000000    18.500014            1.000000  \n",
       "25%      30.000000   119.000000    22.686774            3.000000  \n",
       "50%      40.000000   140.000000    26.861656            5.000000  \n",
       "75%      51.000000   160.000000    30.950380            8.000000  \n",
       "max      60.000000   180.000000    34.996639           10.000000  "
      ]
     },
     "execution_count": 9,
     "metadata": {},
     "output_type": "execute_result"
    }
   ],
   "source": [
    "dataset.describe()"
   ]
  },
  {
   "cell_type": "markdown",
   "id": "19c4c2bf-35c4-4777-995b-491beb914ba7",
   "metadata": {},
   "source": [
    "The dataset seems to be pretty accurate at first look. \n",
    "\n",
    "The sample studied is small, but there are no outliers (the mean and the median are very similar). \n",
    "\n",
    "Whatmore, the dispersion of the data around the mean is relatively small."
   ]
  },
  {
   "cell_type": "markdown",
   "id": "fa7526e7",
   "metadata": {},
   "source": [
    "<hr>"
   ]
  },
  {
   "cell_type": "markdown",
   "id": "9fb825c1",
   "metadata": {},
   "source": [
    "## Exploratory Data Analysis"
   ]
  },
  {
   "cell_type": "markdown",
   "id": "7d96a809-56cd-48ab-8cee-b5ec7e31a95a",
   "metadata": {},
   "source": [
    "### 1. What level of heart rate is the most recommended for people of a particular age?"
   ]
  },
  {
   "cell_type": "markdown",
   "id": "6c2afe63-a9b4-48aa-85cb-8a448236bdab",
   "metadata": {},
   "source": [
    "According to the [Centers for Disease Control and Prevention](https://www.cdc.gov/physicalactivity/basics/measuring/heartrate.htm), the most recommended heart rate for moderate-intensity physical activity can be calculated by subtracting age from 220.\n",
    "\n",
    "We use this method to find out if workouts in our datasets were done under or above this level of heart rate."
   ]
  },
  {
   "cell_type": "code",
   "execution_count": 10,
   "id": "47dfd682-52b6-41ee-b5d7-dfe256362000",
   "metadata": {},
   "outputs": [
    {
     "data": {
      "text/plain": [
       "[<matplotlib.lines.Line2D at 0x12af6a298d0>]"
      ]
     },
     "execution_count": 10,
     "metadata": {},
     "output_type": "execute_result"
    },
    {
     "data": {
      "image/png": "[encoded data removed]",
      "text/plain": [
       "<Figure size 640x480 with 1 Axes>"
      ]
     },
     "metadata": {},
     "output_type": "display_data"
    }
   ],
   "source": [
    "# Create a line graph with recommended max heart rate for ages between 18 and 90\n",
    "heart_art_by_age = {\n",
    "    \"age\": [],\n",
    "    \"heart rate\": []\n",
    "}\n",
    "\n",
    "for age in range(18, 90):\n",
    "    heart_rate = 220 - age\n",
    "    heart_art_by_age[\"age\"].append(age)\n",
    "    heart_art_by_age[\"heart rate\"].append(heart_rate)\n",
    "\n",
    "plt.style.use('Solarize_Light2')\n",
    "plt.plot(heart_art_by_age[\"age\"], heart_art_by_age[\"heart rate\"])"
   ]
  },
  {
   "cell_type": "code",
   "execution_count": 11,
   "id": "df9a7c45-5a79-4b78-ae6d-659f2401d309",
   "metadata": {},
   "outputs": [
    {
     "data": {
      "text/html": [
       "<div>\n",
       "<style scoped>\n",
       "    .dataframe tbody tr th:only-of-type {\n",
       "        vertical-align: middle;\n",
       "    }\n",
       "\n",
       "    .dataframe tbody tr th {\n",
       "        vertical-align: top;\n",
       "    }\n",
       "\n",
       "    .dataframe thead th {\n",
       "        text-align: right;\n",
       "    }\n",
       "</style>\n",
       "<table border=\"1\" class=\"dataframe\">\n",
       "  <thead>\n",
       "    <tr style=\"text-align: right;\">\n",
       "      <th></th>\n",
       "      <th>ID</th>\n",
       "      <th>Exercise</th>\n",
       "      <th>Calories Burn</th>\n",
       "      <th>Dream Weight</th>\n",
       "      <th>Actual Weight</th>\n",
       "      <th>Age</th>\n",
       "      <th>Gender</th>\n",
       "      <th>Duration</th>\n",
       "      <th>Heart Rate</th>\n",
       "      <th>BMI</th>\n",
       "      <th>Weather Conditions</th>\n",
       "      <th>Exercise Intensity</th>\n",
       "      <th>Recommended max heart rate</th>\n",
       "    </tr>\n",
       "  </thead>\n",
       "  <tbody>\n",
       "    <tr>\n",
       "      <th>0</th>\n",
       "      <td>1</td>\n",
       "      <td>Exercise 2</td>\n",
       "      <td>286.959851</td>\n",
       "      <td>91.892531</td>\n",
       "      <td>96.301115</td>\n",
       "      <td>45</td>\n",
       "      <td>Male</td>\n",
       "      <td>37</td>\n",
       "      <td>170</td>\n",
       "      <td>29.426275</td>\n",
       "      <td>Rainy</td>\n",
       "      <td>5</td>\n",
       "      <td>175</td>\n",
       "    </tr>\n",
       "    <tr>\n",
       "      <th>1</th>\n",
       "      <td>2</td>\n",
       "      <td>Exercise 7</td>\n",
       "      <td>343.453036</td>\n",
       "      <td>64.165097</td>\n",
       "      <td>61.104668</td>\n",
       "      <td>25</td>\n",
       "      <td>Male</td>\n",
       "      <td>43</td>\n",
       "      <td>142</td>\n",
       "      <td>21.286346</td>\n",
       "      <td>Rainy</td>\n",
       "      <td>5</td>\n",
       "      <td>195</td>\n",
       "    </tr>\n",
       "    <tr>\n",
       "      <th>2</th>\n",
       "      <td>3</td>\n",
       "      <td>Exercise 4</td>\n",
       "      <td>261.223465</td>\n",
       "      <td>70.846224</td>\n",
       "      <td>71.766724</td>\n",
       "      <td>20</td>\n",
       "      <td>Male</td>\n",
       "      <td>20</td>\n",
       "      <td>148</td>\n",
       "      <td>27.899592</td>\n",
       "      <td>Cloudy</td>\n",
       "      <td>4</td>\n",
       "      <td>200</td>\n",
       "    </tr>\n",
       "    <tr>\n",
       "      <th>3</th>\n",
       "      <td>4</td>\n",
       "      <td>Exercise 5</td>\n",
       "      <td>127.183858</td>\n",
       "      <td>79.477008</td>\n",
       "      <td>82.984456</td>\n",
       "      <td>33</td>\n",
       "      <td>Male</td>\n",
       "      <td>39</td>\n",
       "      <td>170</td>\n",
       "      <td>33.729552</td>\n",
       "      <td>Sunny</td>\n",
       "      <td>10</td>\n",
       "      <td>187</td>\n",
       "    </tr>\n",
       "    <tr>\n",
       "      <th>4</th>\n",
       "      <td>5</td>\n",
       "      <td>Exercise 10</td>\n",
       "      <td>416.318374</td>\n",
       "      <td>89.960226</td>\n",
       "      <td>85.643174</td>\n",
       "      <td>29</td>\n",
       "      <td>Female</td>\n",
       "      <td>34</td>\n",
       "      <td>118</td>\n",
       "      <td>23.286113</td>\n",
       "      <td>Cloudy</td>\n",
       "      <td>3</td>\n",
       "      <td>191</td>\n",
       "    </tr>\n",
       "  </tbody>\n",
       "</table>\n",
       "</div>"
      ],
      "text/plain": [
       "   ID     Exercise  Calories Burn  Dream Weight  Actual Weight  Age  Gender   \n",
       "0   1   Exercise 2     286.959851     91.892531      96.301115   45    Male  \\\n",
       "1   2   Exercise 7     343.453036     64.165097      61.104668   25    Male   \n",
       "2   3   Exercise 4     261.223465     70.846224      71.766724   20    Male   \n",
       "3   4   Exercise 5     127.183858     79.477008      82.984456   33    Male   \n",
       "4   5  Exercise 10     416.318374     89.960226      85.643174   29  Female   \n",
       "\n",
       "   Duration  Heart Rate        BMI Weather Conditions  Exercise Intensity   \n",
       "0        37         170  29.426275              Rainy                   5  \\\n",
       "1        43         142  21.286346              Rainy                   5   \n",
       "2        20         148  27.899592             Cloudy                   4   \n",
       "3        39         170  33.729552              Sunny                  10   \n",
       "4        34         118  23.286113             Cloudy                   3   \n",
       "\n",
       "   Recommended max heart rate  \n",
       "0                         175  \n",
       "1                         195  \n",
       "2                         200  \n",
       "3                         187  \n",
       "4                         191  "
      ]
     },
     "execution_count": 11,
     "metadata": {},
     "output_type": "execute_result"
    }
   ],
   "source": [
    "# Create a new column \"Recommended heart rate\"\n",
    "dataset[\"Recommended max heart rate\"] = 220 - dataset[\"Age\"]\n",
    "dataset.head()"
   ]
  },
  {
   "cell_type": "code",
   "execution_count": 12,
   "id": "46ec1f61-0afe-4c46-ab25-48ba1d590379",
   "metadata": {},
   "outputs": [
    {
     "data": {
      "text/plain": [
       "False    3623\n",
       "True      241\n",
       "Name: count, dtype: int64"
      ]
     },
     "execution_count": 12,
     "metadata": {},
     "output_type": "execute_result"
    }
   ],
   "source": [
    "# Compare recommended heart rate to actual heart rate\n",
    "comparing = dataset[\"Heart Rate\"] > dataset[\"Recommended max heart rate\"]\n",
    "comparing.value_counts()"
   ]
  },
  {
   "cell_type": "code",
   "execution_count": 13,
   "id": "d1678281-ec56-44b3-aa3c-d576146088c4",
   "metadata": {},
   "outputs": [
    {
     "name": "stdout",
     "output_type": "stream",
     "text": [
      "6.2% of workouts above recommended max heart rate\n",
      "93.8% of workouts below recommended max heart rate\n"
     ]
    }
   ],
   "source": [
    "# Calculate the percentage of workouts below and above the recommended max heart rate\n",
    "above = round((comparing.value_counts()[True] / len(comparing)) * 100, 1)\n",
    "below = 100 - above\n",
    "print(f\"{above}% of workouts above recommended max heart rate\")\n",
    "print(f\"{below}% of workouts below recommended max heart rate\")"
   ]
  },
  {
   "cell_type": "markdown",
   "id": "0f609614-bf40-47fb-8539-c703349a0a54",
   "metadata": {},
   "source": [
    "Observation:\n",
    "* With aging, it is recommended to exercise at a lower heart rate range,\n",
    "* 3623 (93.8%) workouts were done under the recommended max heart rate,\n",
    "* 241 (6.2%) workouts were done above the recommended max heart rate."
   ]
  },
  {
   "cell_type": "markdown",
   "id": "9c2b8fd9-ff7a-4ce3-a1a2-7d207bf84daa",
   "metadata": {},
   "source": [
    "### 2. Which exercises are the most efficient (burn the most calories)?"
   ]
  },
  {
   "cell_type": "code",
   "execution_count": 14,
   "id": "9005dd8a-ed3a-4c58-b391-4b8356480c57",
   "metadata": {},
   "outputs": [
    {
     "data": {
      "text/plain": [
       "Exercise\n",
       "Exercise 1     290.644109\n",
       "Exercise 10    294.298761\n",
       "Exercise 2     300.101287\n",
       "Exercise 3     295.770273\n",
       "Exercise 4     315.026142\n",
       "Exercise 5     305.357542\n",
       "Exercise 6     302.971544\n",
       "Exercise 7     307.585135\n",
       "Exercise 8     301.700059\n",
       "Exercise 9     305.971948\n",
       "Name: Calories Burn, dtype: float64"
      ]
     },
     "execution_count": 14,
     "metadata": {},
     "output_type": "execute_result"
    }
   ],
   "source": [
    "# Group by exercises to check average calories burn for every exercise\n",
    "calories_by_exercise = dataset.groupby(\"Exercise\")[\"Calories Burn\"].mean()\n",
    "calories_by_exercise_data = calories_by_exercise.to_dict()\n",
    "calories_by_exercise_df = pd.DataFrame(list(calories_by_exercise_data.items()), columns=['Exercise', 'Average Calories Burned'])\n",
    "calories_by_exercise"
   ]
  },
  {
   "cell_type": "code",
   "execution_count": 15,
   "id": "3ce8b836-6458-474e-ab8c-ce375a7e4f91",
   "metadata": {},
   "outputs": [
    {
     "data": {
      "image/png": "[encoded data removed]",
      "text/plain": [
       "<Figure size 640x480 with 1 Axes>"
      ]
     },
     "metadata": {},
     "output_type": "display_data"
    }
   ],
   "source": [
    "# Create a bar chart\n",
    "calories_by_exercise_df.plot(x='Exercise', y='Average Calories Burned', kind='bar')\n",
    "plt.style.use('Solarize_Light2')\n",
    "plt.xlabel('Exercise')\n",
    "plt.ylabel('Average Calories Burned')\n",
    "plt.title('Average Calories Burned by Exercise')\n",
    "plt.xticks(rotation=45)\n",
    "plt.show()"
   ]
  },
  {
   "cell_type": "code",
   "execution_count": 16,
   "id": "4459b07c-eda5-48e1-af8f-42cceb13948c",
   "metadata": {},
   "outputs": [
    {
     "data": {
      "text/plain": [
       "Exercise\n",
       "Exercise 1     403\n",
       "Exercise 10    398\n",
       "Exercise 2     345\n",
       "Exercise 3     385\n",
       "Exercise 4     371\n",
       "Exercise 5     404\n",
       "Exercise 6     381\n",
       "Exercise 7     386\n",
       "Exercise 8     397\n",
       "Exercise 9     394\n",
       "Name: Calories Burn, dtype: int64"
      ]
     },
     "execution_count": 16,
     "metadata": {},
     "output_type": "execute_result"
    }
   ],
   "source": [
    "# Count the number of workouts for each exercise\n",
    "count_exercise = dataset.groupby(\"Exercise\")[\"Calories Burn\"].count()\n",
    "count_exercise"
   ]
  },
  {
   "cell_type": "markdown",
   "id": "30004419-b8f9-4acf-a00d-eaad443c1fb0",
   "metadata": {},
   "source": [
    "Observation:\n",
    "* The average number of calories burned is very similar for each exercise,\n",
    "* some of the exercises were done more than others, the difference is not significantly large (the biggest difference is 58 times). "
   ]
  },
  {
   "cell_type": "markdown",
   "id": "0e3405bf-a16c-4b26-9687-501cbfdf6625",
   "metadata": {},
   "source": [
    "### 3. What is given people's height?"
   ]
  },
  {
   "cell_type": "code",
   "execution_count": 17,
   "id": "0c8a75b9-bcbc-4028-8e8d-e8c1f193a175",
   "metadata": {},
   "outputs": [
    {
     "data": {
      "text/plain": [
       "0       1.809039\n",
       "1       1.694286\n",
       "2       1.603846\n",
       "3       1.568531\n",
       "4       1.917776\n",
       "          ...   \n",
       "3859    1.726721\n",
       "3860    1.866724\n",
       "3861    1.754613\n",
       "3862    1.863404\n",
       "3863    1.422208\n",
       "Name: Height, Length: 3864, dtype: float64"
      ]
     },
     "execution_count": 17,
     "metadata": {},
     "output_type": "execute_result"
    }
   ],
   "source": [
    "# Calculate the height of exercisers\n",
    "dataset[\"Height\"] = (dataset[\"Actual Weight\"] / dataset[\"BMI\"]) ** 0.5\n",
    "dataset[\"Height\"]"
   ]
  },
  {
   "cell_type": "markdown",
   "id": "a9763906-af24-4f5e-b711-8466e83c3ee4",
   "metadata": {},
   "source": [
    "### 4. Is there any correlation between given variables?"
   ]
  },
  {
   "cell_type": "code",
   "execution_count": 18,
   "id": "beda8957-b160-441b-bdd9-fdf4262c8917",
   "metadata": {},
   "outputs": [
    {
     "data": {
      "text/html": [
       "<div>\n",
       "<style scoped>\n",
       "    .dataframe tbody tr th:only-of-type {\n",
       "        vertical-align: middle;\n",
       "    }\n",
       "\n",
       "    .dataframe tbody tr th {\n",
       "        vertical-align: top;\n",
       "    }\n",
       "\n",
       "    .dataframe thead th {\n",
       "        text-align: right;\n",
       "    }\n",
       "</style>\n",
       "<table border=\"1\" class=\"dataframe\">\n",
       "  <thead>\n",
       "    <tr style=\"text-align: right;\">\n",
       "      <th></th>\n",
       "      <th>Calories Burn</th>\n",
       "      <th>Dream Weight</th>\n",
       "      <th>Actual Weight</th>\n",
       "      <th>Age</th>\n",
       "      <th>Duration</th>\n",
       "      <th>Heart Rate</th>\n",
       "      <th>BMI</th>\n",
       "      <th>Exercise Intensity</th>\n",
       "      <th>Height</th>\n",
       "    </tr>\n",
       "  </thead>\n",
       "  <tbody>\n",
       "    <tr>\n",
       "      <th>Calories Burn</th>\n",
       "      <td>1.000000</td>\n",
       "      <td>0.012749</td>\n",
       "      <td>0.010444</td>\n",
       "      <td>-0.001113</td>\n",
       "      <td>0.021793</td>\n",
       "      <td>-0.035889</td>\n",
       "      <td>0.012602</td>\n",
       "      <td>0.010819</td>\n",
       "      <td>-0.001491</td>\n",
       "    </tr>\n",
       "    <tr>\n",
       "      <th>Dream Weight</th>\n",
       "      <td>0.012749</td>\n",
       "      <td>1.000000</td>\n",
       "      <td>0.981377</td>\n",
       "      <td>0.006689</td>\n",
       "      <td>0.016116</td>\n",
       "      <td>-0.001855</td>\n",
       "      <td>0.002237</td>\n",
       "      <td>0.000087</td>\n",
       "      <td>0.718621</td>\n",
       "    </tr>\n",
       "    <tr>\n",
       "      <th>Actual Weight</th>\n",
       "      <td>0.010444</td>\n",
       "      <td>0.981377</td>\n",
       "      <td>1.000000</td>\n",
       "      <td>0.003368</td>\n",
       "      <td>0.020490</td>\n",
       "      <td>-0.002543</td>\n",
       "      <td>-0.003703</td>\n",
       "      <td>-0.002670</td>\n",
       "      <td>0.736502</td>\n",
       "    </tr>\n",
       "    <tr>\n",
       "      <th>Age</th>\n",
       "      <td>-0.001113</td>\n",
       "      <td>0.006689</td>\n",
       "      <td>0.003368</td>\n",
       "      <td>1.000000</td>\n",
       "      <td>-0.006567</td>\n",
       "      <td>-0.008939</td>\n",
       "      <td>-0.002915</td>\n",
       "      <td>0.005565</td>\n",
       "      <td>0.005550</td>\n",
       "    </tr>\n",
       "    <tr>\n",
       "      <th>Duration</th>\n",
       "      <td>0.021793</td>\n",
       "      <td>0.016116</td>\n",
       "      <td>0.020490</td>\n",
       "      <td>-0.006567</td>\n",
       "      <td>1.000000</td>\n",
       "      <td>0.014941</td>\n",
       "      <td>0.020203</td>\n",
       "      <td>0.023195</td>\n",
       "      <td>0.002157</td>\n",
       "    </tr>\n",
       "    <tr>\n",
       "      <th>Heart Rate</th>\n",
       "      <td>-0.035889</td>\n",
       "      <td>-0.001855</td>\n",
       "      <td>-0.002543</td>\n",
       "      <td>-0.008939</td>\n",
       "      <td>0.014941</td>\n",
       "      <td>1.000000</td>\n",
       "      <td>0.015555</td>\n",
       "      <td>-0.004510</td>\n",
       "      <td>-0.012753</td>\n",
       "    </tr>\n",
       "    <tr>\n",
       "      <th>BMI</th>\n",
       "      <td>0.012602</td>\n",
       "      <td>0.002237</td>\n",
       "      <td>-0.003703</td>\n",
       "      <td>-0.002915</td>\n",
       "      <td>0.020203</td>\n",
       "      <td>0.015555</td>\n",
       "      <td>1.000000</td>\n",
       "      <td>-0.020881</td>\n",
       "      <td>-0.669750</td>\n",
       "    </tr>\n",
       "    <tr>\n",
       "      <th>Exercise Intensity</th>\n",
       "      <td>0.010819</td>\n",
       "      <td>0.000087</td>\n",
       "      <td>-0.002670</td>\n",
       "      <td>0.005565</td>\n",
       "      <td>0.023195</td>\n",
       "      <td>-0.004510</td>\n",
       "      <td>-0.020881</td>\n",
       "      <td>1.000000</td>\n",
       "      <td>0.009596</td>\n",
       "    </tr>\n",
       "    <tr>\n",
       "      <th>Height</th>\n",
       "      <td>-0.001491</td>\n",
       "      <td>0.718621</td>\n",
       "      <td>0.736502</td>\n",
       "      <td>0.005550</td>\n",
       "      <td>0.002157</td>\n",
       "      <td>-0.012753</td>\n",
       "      <td>-0.669750</td>\n",
       "      <td>0.009596</td>\n",
       "      <td>1.000000</td>\n",
       "    </tr>\n",
       "  </tbody>\n",
       "</table>\n",
       "</div>"
      ],
      "text/plain": [
       "                    Calories Burn  Dream Weight  Actual Weight       Age   \n",
       "Calories Burn            1.000000      0.012749       0.010444 -0.001113  \\\n",
       "Dream Weight             0.012749      1.000000       0.981377  0.006689   \n",
       "Actual Weight            0.010444      0.981377       1.000000  0.003368   \n",
       "Age                     -0.001113      0.006689       0.003368  1.000000   \n",
       "Duration                 0.021793      0.016116       0.020490 -0.006567   \n",
       "Heart Rate              -0.035889     -0.001855      -0.002543 -0.008939   \n",
       "BMI                      0.012602      0.002237      -0.003703 -0.002915   \n",
       "Exercise Intensity       0.010819      0.000087      -0.002670  0.005565   \n",
       "Height                  -0.001491      0.718621       0.736502  0.005550   \n",
       "\n",
       "                    Duration  Heart Rate       BMI  Exercise Intensity   \n",
       "Calories Burn       0.021793   -0.035889  0.012602            0.010819  \\\n",
       "Dream Weight        0.016116   -0.001855  0.002237            0.000087   \n",
       "Actual Weight       0.020490   -0.002543 -0.003703           -0.002670   \n",
       "Age                -0.006567   -0.008939 -0.002915            0.005565   \n",
       "Duration            1.000000    0.014941  0.020203            0.023195   \n",
       "Heart Rate          0.014941    1.000000  0.015555           -0.004510   \n",
       "BMI                 0.020203    0.015555  1.000000           -0.020881   \n",
       "Exercise Intensity  0.023195   -0.004510 -0.020881            1.000000   \n",
       "Height              0.002157   -0.012753 -0.669750            0.009596   \n",
       "\n",
       "                      Height  \n",
       "Calories Burn      -0.001491  \n",
       "Dream Weight        0.718621  \n",
       "Actual Weight       0.736502  \n",
       "Age                 0.005550  \n",
       "Duration            0.002157  \n",
       "Heart Rate         -0.012753  \n",
       "BMI                -0.669750  \n",
       "Exercise Intensity  0.009596  \n",
       "Height              1.000000  "
      ]
     },
     "execution_count": 18,
     "metadata": {},
     "output_type": "execute_result"
    }
   ],
   "source": [
    "# Exclude \"ID\", \"Recommended max heart rate\"\n",
    "dataset_edited = dataset.drop([\"ID\", \"Recommended max heart rate\"], axis=1)\n",
    "\n",
    "# Select only numeric columns\n",
    "numeric_columns = dataset_edited.select_dtypes(include=np.number)\n",
    "\n",
    "# Create a correlation matrix\n",
    "correlation_matrix = numeric_columns.corr()\n",
    "correlation_matrix"
   ]
  },
  {
   "cell_type": "code",
   "execution_count": 19,
   "id": "c94a085c-edf9-4e85-a622-4a9aad3758cf",
   "metadata": {},
   "outputs": [
    {
     "data": {
      "text/plain": [
       "<Figure size 1000x800 with 0 Axes>"
      ]
     },
     "metadata": {},
     "output_type": "display_data"
    },
    {
     "data": {
      "image/png": "[encoded data removed]",
      "text/plain": [
       "<Figure size 480x480 with 2 Axes>"
      ]
     },
     "metadata": {},
     "output_type": "display_data"
    }
   ],
   "source": [
    "# Visualize correlation\n",
    "cmap = plt.cm.RdYlBu\n",
    "plt.figure(figsize=(10, 8))\n",
    "plt.matshow(correlation_matrix, cmap=cmap)\n",
    "\n",
    "cbar = plt.colorbar(shrink=0.8)\n",
    "\n",
    "plt.xticks(np.arange(len(correlation_matrix.columns)), correlation_matrix.columns, rotation=90)\n",
    "plt.yticks(np.arange(len(correlation_matrix.columns)), correlation_matrix.columns)\n",
    "\n",
    "plt.title(\"Correlation between variables\")\n",
    "\n",
    "plt.show()"
   ]
  },
  {
   "cell_type": "markdown",
   "id": "8aa61cb5-8f4a-444f-90b4-0c7be1450097",
   "metadata": {},
   "source": [
    "Observations:\n",
    "* There is a strong positive correlation between actual weight and dream weight. This means that if the actual weight is higher than the dream weight is also higher. People considered in this dataset probably want to lose no more than a few kilograms.\n",
    "  \n",
    "* We can see a little negative correlation between heart rate and calorie burn, which means if the heart rate is lower then calorie burn is higher. Correlation in this analysis is insignificantly small.\n",
    "\n",
    "* We can also notice some correlations with height. Correlation with BMI means that we can expect a higher BMI the shorter the height. There is also a positive connection between height and weight, which is understandable, the higher height is then the higher weight is as well.\n",
    "  \n",
    "* Variables in the analyzed dataset have no essential correlation with each other."
   ]
  },
  {
   "cell_type": "markdown",
   "id": "ae384c6a-808a-4535-9bd3-5739f542abb3",
   "metadata": {},
   "source": [
    "### 5. What is the distribution of actual weight in the given dataset?"
   ]
  },
  {
   "cell_type": "code",
   "execution_count": 20,
   "id": "7744d0d1-33ff-4c36-86bc-d836bec0b00b",
   "metadata": {},
   "outputs": [
    {
     "data": {
      "image/png": "[encoded data removed]",
      "text/plain": [
       "<Figure size 640x480 with 1 Axes>"
      ]
     },
     "metadata": {},
     "output_type": "display_data"
    }
   ],
   "source": [
    "# Create histogram with weight of dataset\n",
    "plt.style.use(\"Solarize_Light2\")\n",
    "distribution_chart = dataset[\"Actual Weight\"].plot(kind=\"hist\", edgecolor=\"black\")\n"
   ]
  },
  {
   "cell_type": "markdown",
   "id": "d8304172-ac40-4e9b-a1b1-afacdacbc63a",
   "metadata": {},
   "source": [
    "The above histogram appears to be normally distributed.\n",
    "\n",
    "To make sure about this, we will use the Shapiro-Wilk test."
   ]
  },
  {
   "cell_type": "code",
   "execution_count": 21,
   "id": "49686b00-3f42-4d70-bb34-a0490a0d55bb",
   "metadata": {},
   "outputs": [
    {
     "name": "stdout",
     "output_type": "stream",
     "text": [
      "Test statistic: 0.9651742577552795\n",
      "P-value: 1.3930934391030027e-29\n",
      "There is reason to reject the hypothesis of normal distribution.\n"
     ]
    }
   ],
   "source": [
    "shapiro_test = dataset[\"Actual Weight\"]\n",
    "stat, p_value = shapiro(shapiro_test)\n",
    "\n",
    "print(f\"Test statistic: {stat}\")\n",
    "print(f\"P-value: {p_value}\")\n",
    "\n",
    "if p_value > 0.05:\n",
    "    print(\"There is no reason to reject the hypothesis of normal distribution.\")\n",
    "else:\n",
    "    print(\"There is reason to reject the hypothesis of normal distribution.\")"
   ]
  },
  {
   "cell_type": "markdown",
   "id": "77ef2f43-fc7e-4a4c-a458-f8f6bb990159",
   "metadata": {},
   "source": [
    "Observations:\n",
    "* The weight distribution in the studied dataset is not perfectly symmetrical.\n",
    "* The lack of a normal distribution may mean that the data set is too small to draw conclusions about the wider population."
   ]
  },
  {
   "cell_type": "markdown",
   "id": "4c5b3aa9-fb55-4570-b836-77425f19f704",
   "metadata": {},
   "source": [
    "### 6. How given people are categorized in relation to their BMI?"
   ]
  },
  {
   "cell_type": "code",
   "execution_count": 24,
   "id": "6a270fd0-5954-4d3e-975a-7d2d6ed0aa5f",
   "metadata": {},
   "outputs": [
    {
     "data": {
      "image/png": "[encoded data removed]",
      "text/plain": [
       "<Figure size 640x480 with 1 Axes>"
      ]
     },
     "metadata": {},
     "output_type": "display_data"
    }
   ],
   "source": [
    "# Group BMI by weight status\n",
    "\n",
    "# Create categories and cutoffs\n",
    "categories = [\"Underweight\", \"Healthy weight\", \"Overweight\", \"Obesity\"]\n",
    "cutoffs = [0, 18.5, 24.9, 29.9, float('inf')]\n",
    "\n",
    "# Add new column\n",
    "dataset[\"Weight status\"] = pd.cut(dataset[\"BMI\"], bins=cutoffs, labels=categories, right=False)\n",
    "\n",
    "# Group by weight status\n",
    "categories_grouped = dataset.groupby(\"Weight status\")[\"Weight status\"].count()\n",
    "categories_data = categories_grouped.to_dict()\n",
    "categories_df = pd.DataFrame(list(categories_data.items()), columns=[\"Weight status\", \"Count\"])\n",
    "\n",
    "# Create a bar chart with categories counts\n",
    "categories_df.plot(x=\"Weight status\", y=\"Count\", kind=\"bar\")\n",
    "plt.style.use('Solarize_Light2')\n",
    "plt.xlabel('Weight status')\n",
    "plt.ylabel('Count')\n",
    "plt.xticks(rotation=45)\n",
    "\n",
    "for index, value in enumerate(categories_df[\"Count\"]):\n",
    "    plt.annotate(str(value), xy=(index, value), ha='center', va='bottom')\n",
    "\n",
    "plt.show()"
   ]
  },
  {
   "cell_type": "markdown",
   "id": "729e96bd-46a4-4132-a2d9-1d84a0c318ee",
   "metadata": {},
   "source": [
    "Observations:\n",
    "* Around one-third of examined people have a healthy weight, we can see most of them weigh too much.\n",
    "\n",
    "* None is underweight."
   ]
  },
  {
   "cell_type": "markdown",
   "id": "64934d90-7095-4136-bc2b-d80545269aa4",
   "metadata": {},
   "source": [
    "<hr>"
   ]
  },
  {
   "cell_type": "markdown",
   "id": "4374ab4c-e756-4686-8926-825c26acfa89",
   "metadata": {},
   "source": [
    "## Summary of analysis"
   ]
  },
  {
   "cell_type": "markdown",
   "id": "741a97f2-d019-4bd1-97a0-5967b905b8bd",
   "metadata": {},
   "source": [
    "Let's sums up what we find out about this dataset."
   ]
  },
  {
   "cell_type": "markdown",
   "id": "be33062d-19ec-44d0-8d98-fbaac9cd1b1d",
   "metadata": {},
   "source": [
    "#### Analyzed questions"
   ]
  },
  {
   "cell_type": "markdown",
   "id": "3bfb5c6c-d938-4dbe-af92-67a73665d7e3",
   "metadata": {},
   "source": [
    "1. What level of heart rate is the most recommended for people of a particular age?\n",
    "2. Which exercises are the most efficient (burn the most calories)?\n",
    "3. What is given people's height?\n",
    "4. Is there any correlation between given variables?\n",
    "5. What is the distribution of actual weight in the given dataset?\n",
    "6. How given people are categorized in relation to their BMI?"
   ]
  },
  {
   "cell_type": "markdown",
   "id": "0c941f0f-216d-4b27-923b-0f05cffbab7e",
   "metadata": {},
   "source": [
    "#### Conclusions"
   ]
  },
  {
   "cell_type": "markdown",
   "id": "2f895b53-27ca-4f97-9390-6d754e52a85a",
   "metadata": {},
   "source": [
    "* Aging lowers your maximum heart rate.\n",
    "\n",
    "* The number of calories burned depends on the time spent on exercise and the heart rate we achieve during it. Selecting an exercise from this dataset does not affect the number of calories burned.\n",
    "\n",
    "* Variables in the analyzed dataset have no essential correlation with each other.\n",
    "\n",
    "* There is no normal distribution in actual weight in a given dataset. The dataset should be greater and more differential to find more information about weight impact on exercising.\n",
    "\n",
    "* Around one-third of people in the dataset are categorized with a healthy weight. The rest of them weigh too much."
   ]
  }
 ],
 "metadata": {
  "kernelspec": {
   "display_name": "Python 3 (ipykernel)",
   "language": "python",
   "name": "python3"
  },
  "language_info": {
   "codemirror_mode": {
    "name": "ipython",
    "version": 3
   },
   "file_extension": ".py",
   "mimetype": "text/x-python",
   "name": "python",
   "nbconvert_exporter": "python",
   "pygments_lexer": "ipython3",
   "version": "3.10.11"
  }
 },
 "nbformat": 4,
 "nbformat_minor": 5
}
